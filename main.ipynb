{
 "cells": [
  {
   "cell_type": "code",
   "execution_count": 71,
   "id": "8f4c77e9",
   "metadata": {},
   "outputs": [],
   "source": [
    "from doctr.io import DocumentFile\n",
    "from doctr.models import ocr_predictor\n",
    "\n",
    "# Load the model (you can choose between 'db_resnet50' for detection and 'crnn_vgg16_bn' for recognition)\n",
    "model = ocr_predictor(pretrained=True)"
   ]
  },
  {
   "cell_type": "code",
   "execution_count": 72,
   "id": "ed895b02",
   "metadata": {},
   "outputs": [],
   "source": [
    "# Load your document\n",
    "doc = DocumentFile.from_images(\"data/4.jpg\")\n",
    "\n",
    "# Perform OCR\n",
    "result = model(doc)\n",
    "\n",
    "# Display result\n",
    "# print(result.render())"
   ]
  },
  {
   "cell_type": "code",
   "execution_count": 73,
   "id": "92745bc9",
   "metadata": {},
   "outputs": [],
   "source": [
    "result_list = result.render().split('\\n')"
   ]
  },
  {
   "cell_type": "code",
   "execution_count": 74,
   "id": "9b5f5ac0",
   "metadata": {},
   "outputs": [],
   "source": [
    "import re"
   ]
  },
  {
   "cell_type": "code",
   "execution_count": 75,
   "id": "17b927b9",
   "metadata": {},
   "outputs": [
    {
     "name": "stdout",
     "output_type": "stream",
     "text": [
      "NIK: 1803140307040003\n"
     ]
    }
   ],
   "source": [
    "# Find the index of 'NIK'\n",
    "try:\n",
    "    nik_index = result_list.index('NIK')\n",
    "    nik_raw = result_list[nik_index + 1]\n",
    "except (ValueError, IndexError):\n",
    "    nik_raw = None\n",
    "\n",
    "if nik_raw:\n",
    "    # Fix common OCR errors: replace 'L' with '1' and uppercase letter 'O' with zero '0'\n",
    "    nik_fixed = nik_raw.replace('L', '1').replace('O', '0').replace('I', '1')\n",
    "    # Remove non-digit characters if any (optional)\n",
    "    nik_clean = ''.join(filter(str.isdigit, nik_fixed))\n",
    "\n",
    "    # Validate length (NIK should be 16 digits)\n",
    "    if len(nik_clean) == 16:\n",
    "        print(\"NIK:\", nik_clean)\n",
    "    else:\n",
    "        print(f\"Warning: NIK length invalid after cleaning: '{nik_clean}'\")\n",
    "else:\n",
    "    print(\"NIK field not found\")"
   ]
  },
  {
   "cell_type": "code",
   "execution_count": null,
   "id": "e361c4e6",
   "metadata": {},
   "outputs": [],
   "source": []
  }
 ],
 "metadata": {
  "kernelspec": {
   "display_name": ".vision",
   "language": "python",
   "name": "python3"
  },
  "language_info": {
   "codemirror_mode": {
    "name": "ipython",
    "version": 3
   },
   "file_extension": ".py",
   "mimetype": "text/x-python",
   "name": "python",
   "nbconvert_exporter": "python",
   "pygments_lexer": "ipython3",
   "version": "3.11.9"
  }
 },
 "nbformat": 4,
 "nbformat_minor": 5
}
